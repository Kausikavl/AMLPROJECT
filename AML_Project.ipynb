{
  "cells": [
    {
      "cell_type": "markdown",
      "id": "2d3e9d68",
      "metadata": {
        "id": "2d3e9d68"
      },
      "source": [
        "# Alzheimer's diesease prediction using text data set"
      ]
    },
    {
      "cell_type": "code",
      "execution_count": null,
      "id": "0a34dfd4",
      "metadata": {
        "id": "0a34dfd4"
      },
      "outputs": [],
      "source": [
        "import pandas as pd\n",
        "import nltk\n",
        "import re\n",
        "import contractions"
      ]
    },
    {
      "cell_type": "code",
      "execution_count": null,
      "id": "081d0323",
      "metadata": {
        "id": "081d0323",
        "colab": {
          "base_uri": "https://localhost:8080/"
        },
        "outputId": "0b56c6fb-f5d5-45cf-dde6-82e670a044a2"
      },
      "outputs": [
        {
          "output_type": "stream",
          "name": "stdout",
          "text": [
            "Looking in indexes: https://pypi.org/simple, https://us-python.pkg.dev/colab-wheels/public/simple/\n",
            "Collecting contractions\n",
            "  Downloading contractions-0.1.73-py2.py3-none-any.whl (8.7 kB)\n",
            "Collecting textsearch>=0.0.21 (from contractions)\n",
            "  Downloading textsearch-0.0.24-py2.py3-none-any.whl (7.6 kB)\n",
            "Collecting anyascii (from textsearch>=0.0.21->contractions)\n",
            "  Downloading anyascii-0.3.2-py3-none-any.whl (289 kB)\n",
            "\u001b[2K     \u001b[90m━━━━━━━━━━━━━━━━━━━━━━━━━━━━━━━━━━━━━━\u001b[0m \u001b[32m289.9/289.9 kB\u001b[0m \u001b[31m19.9 MB/s\u001b[0m eta \u001b[36m0:00:00\u001b[0m\n",
            "\u001b[?25hCollecting pyahocorasick (from textsearch>=0.0.21->contractions)\n",
            "  Downloading pyahocorasick-2.0.0-cp310-cp310-manylinux_2_5_x86_64.manylinux1_x86_64.manylinux_2_12_x86_64.manylinux2010_x86_64.whl (110 kB)\n",
            "\u001b[2K     \u001b[90m━━━━━━━━━━━━━━━━━━━━━━━━━━━━━━━━━━━━━━\u001b[0m \u001b[32m110.8/110.8 kB\u001b[0m \u001b[31m11.8 MB/s\u001b[0m eta \u001b[36m0:00:00\u001b[0m\n",
            "\u001b[?25hInstalling collected packages: pyahocorasick, anyascii, textsearch, contractions\n",
            "Successfully installed anyascii-0.3.2 contractions-0.1.73 pyahocorasick-2.0.0 textsearch-0.0.24\n"
          ]
        }
      ],
      "source": [
        "pip install contractions"
      ]
    },
    {
      "cell_type": "code",
      "execution_count": null,
      "id": "5a4a7eff",
      "metadata": {
        "id": "5a4a7eff"
      },
      "outputs": [],
      "source": [
        "column_names=['label','text']"
      ]
    },
    {
      "cell_type": "code",
      "execution_count": null,
      "id": "a775cac5",
      "metadata": {
        "id": "a775cac5"
      },
      "outputs": [],
      "source": [
        "data=pd.read_csv(r\"/content/data (2).csv\",encoding='unicode_escape',header=None,names=column_names)"
      ]
    },
    {
      "cell_type": "code",
      "execution_count": null,
      "id": "1a5d71d5",
      "metadata": {
        "id": "1a5d71d5",
        "colab": {
          "base_uri": "https://localhost:8080/",
          "height": 423
        },
        "outputId": "567a3f4e-5f3b-4c07-a34c-3e92e6905c84"
      },
      "outputs": [
        {
          "output_type": "execute_result",
          "data": {
            "text/plain": [
              "        label                                               text\n",
              "0    positive   the scene is in the in the kitchen . the moth...\n",
              "1    positive   oh I see the sink is running over . I see the...\n",
              "2    positive   a boy and a girl are in the kitchen with thei...\n",
              "3    positive    it was summertime and mother and the childre...\n",
              "4    positive   wait until I put my glasses on . oh ? there's...\n",
              "..        ...                                                ...\n",
              "493  negative    well this one is in the cookie jar . and thi...\n",
              "494  negative    the little boy is on the stool which is tipp...\n",
              "495  negative   oh you want me to tell you . the mother and h...\n",
              "496  negative   oh that kid's gonna get a good spill off of t...\n",
              "497  negative   ah oh boy .  oh the kids are trying to get th...\n",
              "\n",
              "[498 rows x 2 columns]"
            ],
            "text/html": [
              "\n",
              "  <div id=\"df-7363fbb7-2e21-416f-bead-099ae771c4aa\">\n",
              "    <div class=\"colab-df-container\">\n",
              "      <div>\n",
              "<style scoped>\n",
              "    .dataframe tbody tr th:only-of-type {\n",
              "        vertical-align: middle;\n",
              "    }\n",
              "\n",
              "    .dataframe tbody tr th {\n",
              "        vertical-align: top;\n",
              "    }\n",
              "\n",
              "    .dataframe thead th {\n",
              "        text-align: right;\n",
              "    }\n",
              "</style>\n",
              "<table border=\"1\" class=\"dataframe\">\n",
              "  <thead>\n",
              "    <tr style=\"text-align: right;\">\n",
              "      <th></th>\n",
              "      <th>label</th>\n",
              "      <th>text</th>\n",
              "    </tr>\n",
              "  </thead>\n",
              "  <tbody>\n",
              "    <tr>\n",
              "      <th>0</th>\n",
              "      <td>positive</td>\n",
              "      <td>the scene is in the in the kitchen . the moth...</td>\n",
              "    </tr>\n",
              "    <tr>\n",
              "      <th>1</th>\n",
              "      <td>positive</td>\n",
              "      <td>oh I see the sink is running over . I see the...</td>\n",
              "    </tr>\n",
              "    <tr>\n",
              "      <th>2</th>\n",
              "      <td>positive</td>\n",
              "      <td>a boy and a girl are in the kitchen with thei...</td>\n",
              "    </tr>\n",
              "    <tr>\n",
              "      <th>3</th>\n",
              "      <td>positive</td>\n",
              "      <td>it was summertime and mother and the childre...</td>\n",
              "    </tr>\n",
              "    <tr>\n",
              "      <th>4</th>\n",
              "      <td>positive</td>\n",
              "      <td>wait until I put my glasses on . oh ? there's...</td>\n",
              "    </tr>\n",
              "    <tr>\n",
              "      <th>...</th>\n",
              "      <td>...</td>\n",
              "      <td>...</td>\n",
              "    </tr>\n",
              "    <tr>\n",
              "      <th>493</th>\n",
              "      <td>negative</td>\n",
              "      <td>well this one is in the cookie jar . and thi...</td>\n",
              "    </tr>\n",
              "    <tr>\n",
              "      <th>494</th>\n",
              "      <td>negative</td>\n",
              "      <td>the little boy is on the stool which is tipp...</td>\n",
              "    </tr>\n",
              "    <tr>\n",
              "      <th>495</th>\n",
              "      <td>negative</td>\n",
              "      <td>oh you want me to tell you . the mother and h...</td>\n",
              "    </tr>\n",
              "    <tr>\n",
              "      <th>496</th>\n",
              "      <td>negative</td>\n",
              "      <td>oh that kid's gonna get a good spill off of t...</td>\n",
              "    </tr>\n",
              "    <tr>\n",
              "      <th>497</th>\n",
              "      <td>negative</td>\n",
              "      <td>ah oh boy .  oh the kids are trying to get th...</td>\n",
              "    </tr>\n",
              "  </tbody>\n",
              "</table>\n",
              "<p>498 rows × 2 columns</p>\n",
              "</div>\n",
              "      <button class=\"colab-df-convert\" onclick=\"convertToInteractive('df-7363fbb7-2e21-416f-bead-099ae771c4aa')\"\n",
              "              title=\"Convert this dataframe to an interactive table.\"\n",
              "              style=\"display:none;\">\n",
              "        \n",
              "  <svg xmlns=\"http://www.w3.org/2000/svg\" height=\"24px\"viewBox=\"0 0 24 24\"\n",
              "       width=\"24px\">\n",
              "    <path d=\"M0 0h24v24H0V0z\" fill=\"none\"/>\n",
              "    <path d=\"M18.56 5.44l.94 2.06.94-2.06 2.06-.94-2.06-.94-.94-2.06-.94 2.06-2.06.94zm-11 1L8.5 8.5l.94-2.06 2.06-.94-2.06-.94L8.5 2.5l-.94 2.06-2.06.94zm10 10l.94 2.06.94-2.06 2.06-.94-2.06-.94-.94-2.06-.94 2.06-2.06.94z\"/><path d=\"M17.41 7.96l-1.37-1.37c-.4-.4-.92-.59-1.43-.59-.52 0-1.04.2-1.43.59L10.3 9.45l-7.72 7.72c-.78.78-.78 2.05 0 2.83L4 21.41c.39.39.9.59 1.41.59.51 0 1.02-.2 1.41-.59l7.78-7.78 2.81-2.81c.8-.78.8-2.07 0-2.86zM5.41 20L4 18.59l7.72-7.72 1.47 1.35L5.41 20z\"/>\n",
              "  </svg>\n",
              "      </button>\n",
              "      \n",
              "  <style>\n",
              "    .colab-df-container {\n",
              "      display:flex;\n",
              "      flex-wrap:wrap;\n",
              "      gap: 12px;\n",
              "    }\n",
              "\n",
              "    .colab-df-convert {\n",
              "      background-color: #E8F0FE;\n",
              "      border: none;\n",
              "      border-radius: 50%;\n",
              "      cursor: pointer;\n",
              "      display: none;\n",
              "      fill: #1967D2;\n",
              "      height: 32px;\n",
              "      padding: 0 0 0 0;\n",
              "      width: 32px;\n",
              "    }\n",
              "\n",
              "    .colab-df-convert:hover {\n",
              "      background-color: #E2EBFA;\n",
              "      box-shadow: 0px 1px 2px rgba(60, 64, 67, 0.3), 0px 1px 3px 1px rgba(60, 64, 67, 0.15);\n",
              "      fill: #174EA6;\n",
              "    }\n",
              "\n",
              "    [theme=dark] .colab-df-convert {\n",
              "      background-color: #3B4455;\n",
              "      fill: #D2E3FC;\n",
              "    }\n",
              "\n",
              "    [theme=dark] .colab-df-convert:hover {\n",
              "      background-color: #434B5C;\n",
              "      box-shadow: 0px 1px 3px 1px rgba(0, 0, 0, 0.15);\n",
              "      filter: drop-shadow(0px 1px 2px rgba(0, 0, 0, 0.3));\n",
              "      fill: #FFFFFF;\n",
              "    }\n",
              "  </style>\n",
              "\n",
              "      <script>\n",
              "        const buttonEl =\n",
              "          document.querySelector('#df-7363fbb7-2e21-416f-bead-099ae771c4aa button.colab-df-convert');\n",
              "        buttonEl.style.display =\n",
              "          google.colab.kernel.accessAllowed ? 'block' : 'none';\n",
              "\n",
              "        async function convertToInteractive(key) {\n",
              "          const element = document.querySelector('#df-7363fbb7-2e21-416f-bead-099ae771c4aa');\n",
              "          const dataTable =\n",
              "            await google.colab.kernel.invokeFunction('convertToInteractive',\n",
              "                                                     [key], {});\n",
              "          if (!dataTable) return;\n",
              "\n",
              "          const docLinkHtml = 'Like what you see? Visit the ' +\n",
              "            '<a target=\"_blank\" href=https://colab.research.google.com/notebooks/data_table.ipynb>data table notebook</a>'\n",
              "            + ' to learn more about interactive tables.';\n",
              "          element.innerHTML = '';\n",
              "          dataTable['output_type'] = 'display_data';\n",
              "          await google.colab.output.renderOutput(dataTable, element);\n",
              "          const docLink = document.createElement('div');\n",
              "          docLink.innerHTML = docLinkHtml;\n",
              "          element.appendChild(docLink);\n",
              "        }\n",
              "      </script>\n",
              "    </div>\n",
              "  </div>\n",
              "  "
            ]
          },
          "metadata": {},
          "execution_count": 6
        }
      ],
      "source": [
        "data"
      ]
    },
    {
      "cell_type": "markdown",
      "id": "c300f349",
      "metadata": {
        "id": "c300f349"
      },
      "source": [
        "# Preprocessing"
      ]
    },
    {
      "cell_type": "code",
      "execution_count": null,
      "id": "b30ea65a",
      "metadata": {
        "id": "b30ea65a"
      },
      "outputs": [],
      "source": [
        "# Function to remove punctuations\n",
        "def remove_punctuations(text):\n",
        "    cleaned_text = re.sub(r'[^\\w\\s]', '', text)\n",
        "    return cleaned_text"
      ]
    },
    {
      "cell_type": "code",
      "execution_count": null,
      "id": "6ebea6ea",
      "metadata": {
        "id": "6ebea6ea"
      },
      "outputs": [],
      "source": [
        "# Function to remove words and digits containing digits\n",
        "def remove_words_with_digits(text):\n",
        "    cleaned_text = re.sub(r'\\w*\\d\\w*', '', text)\n",
        "    return cleaned_text"
      ]
    },
    {
      "cell_type": "code",
      "execution_count": null,
      "id": "7b18badf",
      "metadata": {
        "id": "7b18badf"
      },
      "outputs": [],
      "source": [
        "# Function to remove extra spaces\n",
        "def remove_extra_spaces(text):\n",
        "    cleaned_text = re.sub(' +', ' ', text)\n",
        "    return cleaned_text.strip()"
      ]
    },
    {
      "cell_type": "code",
      "execution_count": null,
      "id": "884980b0",
      "metadata": {
        "id": "884980b0"
      },
      "outputs": [],
      "source": [
        "# Function to expand contractions\n",
        "def expand_contractions(text):\n",
        "    expanded_text = contractions.fix(text)\n",
        "    return expanded_text\n"
      ]
    },
    {
      "cell_type": "code",
      "execution_count": null,
      "id": "1bb1aa34",
      "metadata": {
        "id": "1bb1aa34"
      },
      "outputs": [],
      "source": [
        "#Apply\n",
        "data['text'] = data['text'].str.lower()\n",
        "data['text'] = data['text'].apply(remove_punctuations)\n",
        "data['text'] = data['text'].apply(remove_words_with_digits)\n",
        "data['text'] = data['text'].apply(remove_extra_spaces)\n",
        "data['text'] = data['text'].apply(expand_contractions)"
      ]
    },
    {
      "cell_type": "code",
      "execution_count": null,
      "id": "14987a67",
      "metadata": {
        "id": "14987a67",
        "colab": {
          "base_uri": "https://localhost:8080/",
          "height": 423
        },
        "outputId": "fe203203-ac4f-4d7f-de33-2ad9e74b4586"
      },
      "outputs": [
        {
          "output_type": "execute_result",
          "data": {
            "text/plain": [
              "        label                                               text\n",
              "0    positive  the scene is in the in the kitchen the mother ...\n",
              "1    positive  oh i see the sink is running over i see the st...\n",
              "2    positive  a boy and a girl are in the kitchen with their...\n",
              "3    positive  it was summertime and mother and the children ...\n",
              "4    positive  wait until i put my glasses on oh there is a g...\n",
              "..        ...                                                ...\n",
              "493  negative  well this one is in the cookie jar and this is...\n",
              "494  negative  the little boy is on the stool which is tippin...\n",
              "495  negative  oh you want me to tell you the mother and her ...\n",
              "496  negative  oh that kids going to get a good spill off of ...\n",
              "497  negative  ah oh boy oh the kids are trying to get the co...\n",
              "\n",
              "[498 rows x 2 columns]"
            ],
            "text/html": [
              "\n",
              "  <div id=\"df-55013d3b-9b3b-40ef-bc26-f95ac4f8705c\">\n",
              "    <div class=\"colab-df-container\">\n",
              "      <div>\n",
              "<style scoped>\n",
              "    .dataframe tbody tr th:only-of-type {\n",
              "        vertical-align: middle;\n",
              "    }\n",
              "\n",
              "    .dataframe tbody tr th {\n",
              "        vertical-align: top;\n",
              "    }\n",
              "\n",
              "    .dataframe thead th {\n",
              "        text-align: right;\n",
              "    }\n",
              "</style>\n",
              "<table border=\"1\" class=\"dataframe\">\n",
              "  <thead>\n",
              "    <tr style=\"text-align: right;\">\n",
              "      <th></th>\n",
              "      <th>label</th>\n",
              "      <th>text</th>\n",
              "    </tr>\n",
              "  </thead>\n",
              "  <tbody>\n",
              "    <tr>\n",
              "      <th>0</th>\n",
              "      <td>positive</td>\n",
              "      <td>the scene is in the in the kitchen the mother ...</td>\n",
              "    </tr>\n",
              "    <tr>\n",
              "      <th>1</th>\n",
              "      <td>positive</td>\n",
              "      <td>oh i see the sink is running over i see the st...</td>\n",
              "    </tr>\n",
              "    <tr>\n",
              "      <th>2</th>\n",
              "      <td>positive</td>\n",
              "      <td>a boy and a girl are in the kitchen with their...</td>\n",
              "    </tr>\n",
              "    <tr>\n",
              "      <th>3</th>\n",
              "      <td>positive</td>\n",
              "      <td>it was summertime and mother and the children ...</td>\n",
              "    </tr>\n",
              "    <tr>\n",
              "      <th>4</th>\n",
              "      <td>positive</td>\n",
              "      <td>wait until i put my glasses on oh there is a g...</td>\n",
              "    </tr>\n",
              "    <tr>\n",
              "      <th>...</th>\n",
              "      <td>...</td>\n",
              "      <td>...</td>\n",
              "    </tr>\n",
              "    <tr>\n",
              "      <th>493</th>\n",
              "      <td>negative</td>\n",
              "      <td>well this one is in the cookie jar and this is...</td>\n",
              "    </tr>\n",
              "    <tr>\n",
              "      <th>494</th>\n",
              "      <td>negative</td>\n",
              "      <td>the little boy is on the stool which is tippin...</td>\n",
              "    </tr>\n",
              "    <tr>\n",
              "      <th>495</th>\n",
              "      <td>negative</td>\n",
              "      <td>oh you want me to tell you the mother and her ...</td>\n",
              "    </tr>\n",
              "    <tr>\n",
              "      <th>496</th>\n",
              "      <td>negative</td>\n",
              "      <td>oh that kids going to get a good spill off of ...</td>\n",
              "    </tr>\n",
              "    <tr>\n",
              "      <th>497</th>\n",
              "      <td>negative</td>\n",
              "      <td>ah oh boy oh the kids are trying to get the co...</td>\n",
              "    </tr>\n",
              "  </tbody>\n",
              "</table>\n",
              "<p>498 rows × 2 columns</p>\n",
              "</div>\n",
              "      <button class=\"colab-df-convert\" onclick=\"convertToInteractive('df-55013d3b-9b3b-40ef-bc26-f95ac4f8705c')\"\n",
              "              title=\"Convert this dataframe to an interactive table.\"\n",
              "              style=\"display:none;\">\n",
              "        \n",
              "  <svg xmlns=\"http://www.w3.org/2000/svg\" height=\"24px\"viewBox=\"0 0 24 24\"\n",
              "       width=\"24px\">\n",
              "    <path d=\"M0 0h24v24H0V0z\" fill=\"none\"/>\n",
              "    <path d=\"M18.56 5.44l.94 2.06.94-2.06 2.06-.94-2.06-.94-.94-2.06-.94 2.06-2.06.94zm-11 1L8.5 8.5l.94-2.06 2.06-.94-2.06-.94L8.5 2.5l-.94 2.06-2.06.94zm10 10l.94 2.06.94-2.06 2.06-.94-2.06-.94-.94-2.06-.94 2.06-2.06.94z\"/><path d=\"M17.41 7.96l-1.37-1.37c-.4-.4-.92-.59-1.43-.59-.52 0-1.04.2-1.43.59L10.3 9.45l-7.72 7.72c-.78.78-.78 2.05 0 2.83L4 21.41c.39.39.9.59 1.41.59.51 0 1.02-.2 1.41-.59l7.78-7.78 2.81-2.81c.8-.78.8-2.07 0-2.86zM5.41 20L4 18.59l7.72-7.72 1.47 1.35L5.41 20z\"/>\n",
              "  </svg>\n",
              "      </button>\n",
              "      \n",
              "  <style>\n",
              "    .colab-df-container {\n",
              "      display:flex;\n",
              "      flex-wrap:wrap;\n",
              "      gap: 12px;\n",
              "    }\n",
              "\n",
              "    .colab-df-convert {\n",
              "      background-color: #E8F0FE;\n",
              "      border: none;\n",
              "      border-radius: 50%;\n",
              "      cursor: pointer;\n",
              "      display: none;\n",
              "      fill: #1967D2;\n",
              "      height: 32px;\n",
              "      padding: 0 0 0 0;\n",
              "      width: 32px;\n",
              "    }\n",
              "\n",
              "    .colab-df-convert:hover {\n",
              "      background-color: #E2EBFA;\n",
              "      box-shadow: 0px 1px 2px rgba(60, 64, 67, 0.3), 0px 1px 3px 1px rgba(60, 64, 67, 0.15);\n",
              "      fill: #174EA6;\n",
              "    }\n",
              "\n",
              "    [theme=dark] .colab-df-convert {\n",
              "      background-color: #3B4455;\n",
              "      fill: #D2E3FC;\n",
              "    }\n",
              "\n",
              "    [theme=dark] .colab-df-convert:hover {\n",
              "      background-color: #434B5C;\n",
              "      box-shadow: 0px 1px 3px 1px rgba(0, 0, 0, 0.15);\n",
              "      filter: drop-shadow(0px 1px 2px rgba(0, 0, 0, 0.3));\n",
              "      fill: #FFFFFF;\n",
              "    }\n",
              "  </style>\n",
              "\n",
              "      <script>\n",
              "        const buttonEl =\n",
              "          document.querySelector('#df-55013d3b-9b3b-40ef-bc26-f95ac4f8705c button.colab-df-convert');\n",
              "        buttonEl.style.display =\n",
              "          google.colab.kernel.accessAllowed ? 'block' : 'none';\n",
              "\n",
              "        async function convertToInteractive(key) {\n",
              "          const element = document.querySelector('#df-55013d3b-9b3b-40ef-bc26-f95ac4f8705c');\n",
              "          const dataTable =\n",
              "            await google.colab.kernel.invokeFunction('convertToInteractive',\n",
              "                                                     [key], {});\n",
              "          if (!dataTable) return;\n",
              "\n",
              "          const docLinkHtml = 'Like what you see? Visit the ' +\n",
              "            '<a target=\"_blank\" href=https://colab.research.google.com/notebooks/data_table.ipynb>data table notebook</a>'\n",
              "            + ' to learn more about interactive tables.';\n",
              "          element.innerHTML = '';\n",
              "          dataTable['output_type'] = 'display_data';\n",
              "          await google.colab.output.renderOutput(dataTable, element);\n",
              "          const docLink = document.createElement('div');\n",
              "          docLink.innerHTML = docLinkHtml;\n",
              "          element.appendChild(docLink);\n",
              "        }\n",
              "      </script>\n",
              "    </div>\n",
              "  </div>\n",
              "  "
            ]
          },
          "metadata": {},
          "execution_count": 12
        }
      ],
      "source": [
        "data"
      ]
    },
    {
      "cell_type": "markdown",
      "id": "15c81d73",
      "metadata": {
        "id": "15c81d73"
      },
      "source": [
        "# Naive Bayes"
      ]
    },
    {
      "cell_type": "code",
      "execution_count": null,
      "id": "16313231",
      "metadata": {
        "id": "16313231"
      },
      "outputs": [],
      "source": [
        "import pandas as pd\n",
        "from sklearn.feature_extraction.text import CountVectorizer\n",
        "from sklearn.model_selection import train_test_split\n",
        "from sklearn.naive_bayes import MultinomialNB, BernoulliNB\n",
        "from sklearn.metrics import accuracy_score"
      ]
    },
    {
      "cell_type": "code",
      "execution_count": null,
      "id": "e9117fbb",
      "metadata": {
        "id": "e9117fbb"
      },
      "outputs": [],
      "source": [
        "# Split the dataset into training and testing sets\n",
        "X_train, X_test, y_train, y_test = train_test_split(data['text'], data['label'], test_size=0.2, random_state=42)"
      ]
    },
    {
      "cell_type": "code",
      "execution_count": null,
      "id": "1d9767ae",
      "metadata": {
        "id": "1d9767ae"
      },
      "outputs": [],
      "source": [
        "# Create the feature vectors\n",
        "# 1) tokenization - i do not know=>[\"i\",\"do\",\"not\",\"know\"] 2)building vocabulary assign numbers to unique words 3)frequency count\n",
        "#term frequency-inverse document frequency (TF-IDF).\n",
        "\n",
        "\n",
        "\n",
        "vectorizer = CountVectorizer()\n",
        "X_train_vectorized = vectorizer.fit_transform(X_train)\n",
        "X_test_vectorized = vectorizer.transform(X_test)"
      ]
    },
    {
      "cell_type": "markdown",
      "id": "a88c10fa",
      "metadata": {
        "id": "a88c10fa"
      },
      "source": [
        "# Multinomial Naive Bayes"
      ]
    },
    {
      "cell_type": "code",
      "execution_count": null,
      "id": "998a3cd1",
      "metadata": {
        "id": "998a3cd1",
        "colab": {
          "base_uri": "https://localhost:8080/"
        },
        "outputId": "4e707216-bd27-4800-feb3-eeb7ac32d4b1"
      },
      "outputs": [
        {
          "output_type": "stream",
          "name": "stdout",
          "text": [
            "Multinomial Naive Bayes Accuracy: 0.84\n"
          ]
        }
      ],
      "source": [
        "\n",
        "mnb = MultinomialNB()\n",
        "mnb.fit(X_train_vectorized, y_train)\n",
        "mnb_predictions = mnb.predict(X_test_vectorized)\n",
        "mnb_accuracy = accuracy_score(y_test, mnb_predictions)\n",
        "print(\"Multinomial Naive Bayes Accuracy:\", mnb_accuracy)\n"
      ]
    },
    {
      "cell_type": "markdown",
      "id": "ce82d9ac",
      "metadata": {
        "id": "ce82d9ac"
      },
      "source": [
        "# Bernoulli Naive Bayes"
      ]
    },
    {
      "cell_type": "code",
      "execution_count": null,
      "id": "3d400f94",
      "metadata": {
        "id": "3d400f94",
        "colab": {
          "base_uri": "https://localhost:8080/"
        },
        "outputId": "c864c4a5-d7d7-4a12-a9b7-09292bb913de"
      },
      "outputs": [
        {
          "output_type": "stream",
          "name": "stdout",
          "text": [
            "Bernoulli Naive Bayes Accuracy: 0.8\n"
          ]
        }
      ],
      "source": [
        "bnb = BernoulliNB()\n",
        "bnb.fit(X_train_vectorized, y_train)\n",
        "bnb_predictions = bnb.predict(X_test_vectorized)\n",
        "bnb_accuracy = accuracy_score(y_test, bnb_predictions)\n",
        "print(\"Bernoulli Naive Bayes Accuracy:\", bnb_accuracy)"
      ]
    },
    {
      "cell_type": "markdown",
      "id": "630d664f",
      "metadata": {
        "id": "630d664f"
      },
      "source": [
        "# Performance metrics"
      ]
    },
    {
      "cell_type": "code",
      "execution_count": null,
      "id": "47225cec",
      "metadata": {
        "id": "47225cec",
        "colab": {
          "base_uri": "https://localhost:8080/"
        },
        "outputId": "e1817588-9ce7-48f0-9a23-471d0e728b3c"
      },
      "outputs": [
        {
          "output_type": "stream",
          "name": "stdout",
          "text": [
            "Multinomial Naive Bayes Evaluation:\n",
            "              precision    recall  f1-score   support\n",
            "\n",
            "    negative       0.82      0.82      0.82        44\n",
            "    positive       0.86      0.86      0.86        56\n",
            "\n",
            "    accuracy                           0.84       100\n",
            "   macro avg       0.84      0.84      0.84       100\n",
            "weighted avg       0.84      0.84      0.84       100\n",
            "\n",
            "Confusion Matrix:\n",
            "[[36  8]\n",
            " [ 8 48]]\n",
            "AUC-ROC Score: 0.8938717532467532\n"
          ]
        }
      ],
      "source": [
        "from sklearn.metrics import classification_report, confusion_matrix, roc_auc_score\n",
        "\n",
        "# Calculate evaluation metrics for Multinomial Naive Bayes\n",
        "print(\"Multinomial Naive Bayes Evaluation:\")\n",
        "print(classification_report(y_test, mnb_predictions))\n",
        "print(\"Confusion Matrix:\")\n",
        "print(confusion_matrix(y_test, mnb_predictions))\n",
        "print(\"AUC-ROC Score:\", roc_auc_score(y_test, mnb.predict_proba(X_test_vectorized)[:, 1]))\n"
      ]
    },
    {
      "cell_type": "code",
      "execution_count": null,
      "id": "d1cf86fd",
      "metadata": {
        "id": "d1cf86fd",
        "colab": {
          "base_uri": "https://localhost:8080/"
        },
        "outputId": "87c3ec0d-6212-4863-f877-c2081a8be87a"
      },
      "outputs": [
        {
          "output_type": "stream",
          "name": "stdout",
          "text": [
            "Bernoulli Naive Bayes Evaluation:\n",
            "              precision    recall  f1-score   support\n",
            "\n",
            "    negative       0.76      0.80      0.78        44\n",
            "    positive       0.83      0.80      0.82        56\n",
            "\n",
            "    accuracy                           0.80       100\n",
            "   macro avg       0.80      0.80      0.80       100\n",
            "weighted avg       0.80      0.80      0.80       100\n",
            "\n",
            "Confusion Matrix:\n",
            "[[35  9]\n",
            " [11 45]]\n",
            "AUC-ROC Score: 0.8981331168831169\n"
          ]
        }
      ],
      "source": [
        "\n",
        "# Calculate evaluation metrics for Bernoulli Naive Bayes\n",
        "print(\"Bernoulli Naive Bayes Evaluation:\")\n",
        "print(classification_report(y_test, bnb_predictions))\n",
        "print(\"Confusion Matrix:\")\n",
        "print(confusion_matrix(y_test, bnb_predictions))\n",
        "print(\"AUC-ROC Score:\", roc_auc_score(y_test, bnb.predict_proba(X_test_vectorized)[:, 1]))"
      ]
    },
    {
      "cell_type": "markdown",
      "id": "9b7675a2",
      "metadata": {
        "id": "9b7675a2"
      },
      "source": [
        "# SVM"
      ]
    },
    {
      "cell_type": "code",
      "execution_count": null,
      "id": "1bfe79f9",
      "metadata": {
        "id": "1bfe79f9"
      },
      "outputs": [],
      "source": [
        "from sklearn.feature_extraction.text import TfidfVectorizer\n",
        "from sklearn.svm import SVC\n"
      ]
    },
    {
      "cell_type": "code",
      "execution_count": null,
      "id": "4d453a7a",
      "metadata": {
        "id": "4d453a7a"
      },
      "outputs": [],
      "source": [
        "\n",
        "# Train the SVM model\n",
        "svm = SVC()\n",
        "svm.fit(X_train_vectorized, y_train)\n",
        "\n",
        "# Make predictions on the test set\n",
        "svm_predictions = svm.predict(X_test_vectorized)\n"
      ]
    },
    {
      "cell_type": "code",
      "execution_count": null,
      "id": "703b0a72",
      "metadata": {
        "id": "703b0a72",
        "colab": {
          "base_uri": "https://localhost:8080/"
        },
        "outputId": "f2f446ef-4c2c-4044-99fa-7e2d1d7763bb"
      },
      "outputs": [
        {
          "output_type": "stream",
          "name": "stdout",
          "text": [
            "SVM Evaluation:\n",
            "              precision    recall  f1-score   support\n",
            "\n",
            "    negative       0.78      0.89      0.83        44\n",
            "    positive       0.90      0.80      0.85        56\n",
            "\n",
            "    accuracy                           0.84       100\n",
            "   macro avg       0.84      0.84      0.84       100\n",
            "weighted avg       0.85      0.84      0.84       100\n",
            "\n",
            "Confusion Matrix:\n",
            "[[39  5]\n",
            " [11 45]]\n",
            "AUC-ROC Score: 0.9103084415584416\n"
          ]
        }
      ],
      "source": [
        "from sklearn.metrics import classification_report, confusion_matrix, roc_auc_score\n",
        "\n",
        "# Evaluate the performance of the SVM model\n",
        "print(\"SVM Evaluation:\")\n",
        "print(classification_report(y_test, svm_predictions))\n",
        "print(\"Confusion Matrix:\")\n",
        "print(confusion_matrix(y_test, svm_predictions))\n",
        "print(\"AUC-ROC Score:\", roc_auc_score(y_test, svm.decision_function(X_test_vectorized)))\n"
      ]
    },
    {
      "cell_type": "markdown",
      "id": "b843d206",
      "metadata": {
        "id": "b843d206"
      },
      "source": [
        "# Random forest Classifier"
      ]
    },
    {
      "cell_type": "code",
      "execution_count": null,
      "id": "4b288e92",
      "metadata": {
        "id": "4b288e92"
      },
      "outputs": [],
      "source": [
        "from sklearn.ensemble import RandomForestClassifier\n",
        "from sklearn.metrics import accuracy_score, precision_score, recall_score, f1_score"
      ]
    },
    {
      "cell_type": "code",
      "execution_count": null,
      "id": "f08297b3",
      "metadata": {
        "id": "f08297b3",
        "colab": {
          "base_uri": "https://localhost:8080/"
        },
        "outputId": "5cbac339-8d0f-49d1-a3ef-c618db182f80"
      },
      "outputs": [
        {
          "output_type": "stream",
          "name": "stdout",
          "text": [
            "Accuracy: 0.79\n",
            "Precision: 0.7954221688675471\n",
            "Recall: 0.79\n",
            "F1 Score: 0.7907386192342477\n"
          ]
        }
      ],
      "source": [
        "# Train the Random Forest model\n",
        "random_forest = RandomForestClassifier()\n",
        "random_forest.fit(X_train_vectorized, y_train)\n",
        "\n",
        "# Make predictions on the test set\n",
        "rf_predictions = random_forest.predict(X_test_vectorized)\n",
        "\n",
        "# Evaluate the performance of the model\n",
        "accuracy = accuracy_score(y_test, rf_predictions)\n",
        "precision = precision_score(y_test, rf_predictions, average='weighted')\n",
        "recall = recall_score(y_test, rf_predictions, average='weighted')\n",
        "f1 = f1_score(y_test, rf_predictions, average='weighted')\n",
        "\n",
        "print(\"Accuracy:\", accuracy)\n",
        "print(\"Precision:\", precision)\n",
        "print(\"Recall:\", recall)\n",
        "print(\"F1 Score:\", f1)"
      ]
    },
    {
      "cell_type": "markdown",
      "id": "6b47c0f4",
      "metadata": {
        "id": "6b47c0f4"
      },
      "source": [
        "# DecisionTree Classifier"
      ]
    },
    {
      "cell_type": "code",
      "execution_count": null,
      "id": "b369d152",
      "metadata": {
        "id": "b369d152",
        "colab": {
          "base_uri": "https://localhost:8080/"
        },
        "outputId": "fa9f4ca1-04a7-4099-c2dd-337d6ac2028f"
      },
      "outputs": [
        {
          "output_type": "stream",
          "name": "stdout",
          "text": [
            "Accuracy: 0.73\n",
            "Precision: 0.7636363636363637\n",
            "Recall: 0.75\n",
            "F1 Score: 0.7567567567567568\n"
          ]
        }
      ],
      "source": [
        "import pandas as pd\n",
        "from sklearn.model_selection import train_test_split\n",
        "from sklearn.tree import DecisionTreeClassifier\n",
        "from sklearn.feature_extraction.text import TfidfVectorizer\n",
        "from sklearn.metrics import accuracy_score, precision_score, recall_score, f1_score\n",
        "\n",
        "# Read the dataset from the CSV file\n",
        "data = pd.read_csv(r\"/content/data (2).csv\", encoding='unicode_escape', header=None, names=['label', 'text'])\n",
        "\n",
        "# Split the data into features and target variable\n",
        "X = data['text']\n",
        "y = data['label']\n",
        "\n",
        "# Split the data into training and testing sets\n",
        "X_train, X_test, y_train, y_test = train_test_split(X, y, test_size=0.2, random_state=42)\n",
        "\n",
        "# Preprocess the text data using TF-IDF vectorization\n",
        "vectorizer = TfidfVectorizer()\n",
        "X_train = vectorizer.fit_transform(X_train)\n",
        "X_test = vectorizer.transform(X_test)\n",
        "\n",
        "# Create the decision tree classifier\n",
        "classifier = DecisionTreeClassifier()\n",
        "\n",
        "# Train the classifier on the training data\n",
        "classifier.fit(X_train, y_train)\n",
        "\n",
        "# Make predictions on the test data\n",
        "y_pred = classifier.predict(X_test)\n",
        "\n",
        "# Evaluate the classifier\n",
        "accuracy = accuracy_score(y_test, y_pred)\n",
        "precision = precision_score(y_test, y_pred, pos_label='positive')\n",
        "recall = recall_score(y_test, y_pred, pos_label='positive')\n",
        "f1 = f1_score(y_test, y_pred, pos_label='positive')\n",
        "\n",
        "# Print the evaluation metrics\n",
        "print(\"Accuracy:\", accuracy)\n",
        "print(\"Precision:\", precision)\n",
        "print(\"Recall:\", recall)\n",
        "print(\"F1 Score:\", f1)\n"
      ]
    },
    {
      "cell_type": "code",
      "execution_count": null,
      "id": "d0a646e6",
      "metadata": {
        "id": "d0a646e6"
      },
      "outputs": [],
      "source": []
    }
  ],
  "metadata": {
    "kernelspec": {
      "display_name": "Python 3 (ipykernel)",
      "language": "python",
      "name": "python3"
    },
    "language_info": {
      "codemirror_mode": {
        "name": "ipython",
        "version": 3
      },
      "file_extension": ".py",
      "mimetype": "text/x-python",
      "name": "python",
      "nbconvert_exporter": "python",
      "pygments_lexer": "ipython3",
      "version": "3.9.13"
    },
    "colab": {
      "provenance": []
    }
  },
  "nbformat": 4,
  "nbformat_minor": 5
}